{
  "nbformat": 4,
  "nbformat_minor": 0,
  "metadata": {
    "colab": {
      "name": "machine_learning_tutorial.ipynb",
      "provenance": []
    },
    "kernelspec": {
      "name": "python3",
      "display_name": "Python 3"
    },
    "language_info": {
      "name": "python"
    }
  },
  "cells": [
    {
      "cell_type": "code",
      "execution_count": null,
      "metadata": {
        "id": "lHAD3Ixi25MP"
      },
      "outputs": [],
      "source": [
        "import numpy as np"
      ]
    },
    {
      "cell_type": "code",
      "source": [
        "matrice=np.array([[4,5],[6,2]])\n",
        "matrice\n",
        "matrice.shape\n",
        "b= matrice.T\n",
        "mat=np.ones([2,2])\n",
        "mat+b\n",
        "mat.dot(b)"
      ],
      "metadata": {
        "colab": {
          "base_uri": "https://localhost:8080/"
        },
        "id": "G3bJ3WZ53FqZ",
        "outputId": "178cab44-583a-412c-bc21-fdf516b0304b"
      },
      "execution_count": null,
      "outputs": [
        {
          "output_type": "execute_result",
          "data": {
            "text/plain": [
              "array([[9., 8.],\n",
              "       [9., 8.]])"
            ]
          },
          "metadata": {},
          "execution_count": 2
        }
      ]
    },
    {
      "cell_type": "code",
      "source": [
        "import sklearn\n",
        "from sklearn.datasets import make_regression\n",
        "import matplotlib.pyplot as plt\n",
        "x,y=make_regression(n_samples=100,n_features=1,noise=10)\n",
        "plt.scatter(x,y)"
      ],
      "metadata": {
        "colab": {
          "base_uri": "https://localhost:8080/",
          "height": 282
        },
        "id": "9z1mqD1P2NJD",
        "outputId": "f6fd1a5e-ea36-4d62-edb1-b29102340627"
      },
      "execution_count": null,
      "outputs": [
        {
          "output_type": "execute_result",
          "data": {
            "text/plain": [
              "<matplotlib.collections.PathCollection at 0x7f4e4b23d690>"
            ]
          },
          "metadata": {},
          "execution_count": 27
        },
        {
          "output_type": "display_data",
          "data": {
            "text/plain": [
              "<Figure size 432x288 with 1 Axes>"
            ],
            "image/png": "[encoded data removed]"
          },
          "metadata": {
            "needs_background": "light"
          }
        }
      ]
    },
    {
      "cell_type": "code",
      "source": [
        "print(x.shape,y.shape)\n",
        "y=y.reshape(y.shape[0],1)\n",
        "print(y.shape)"
      ],
      "metadata": {
        "colab": {
          "base_uri": "https://localhost:8080/"
        },
        "id": "I1NYfZ6v46oM",
        "outputId": "e7c1d390-edfa-4bc8-a9db-ffecd8d1f335"
      },
      "execution_count": null,
      "outputs": [
        {
          "output_type": "stream",
          "name": "stdout",
          "text": [
            "(100, 1) (100,)\n",
            "(100, 1)\n"
          ]
        }
      ]
    },
    {
      "cell_type": "code",
      "source": [
        "X=np.hstack((x,np.ones(x.shape)))\n",
        "X\n",
        "X.shape"
      ],
      "metadata": {
        "colab": {
          "base_uri": "https://localhost:8080/"
        },
        "id": "eKQI4_yp7Bg7",
        "outputId": "9ec647f1-216d-44f9-8a12-ce283285a130"
      },
      "execution_count": null,
      "outputs": [
        {
          "output_type": "execute_result",
          "data": {
            "text/plain": [
              "(100, 2)"
            ]
          },
          "metadata": {},
          "execution_count": 29
        }
      ]
    },
    {
      "cell_type": "code",
      "source": [
        "theta=np.random.randn(2,1)\n",
        "theta.shape\n",
        "theta\n"
      ],
      "metadata": {
        "colab": {
          "base_uri": "https://localhost:8080/"
        },
        "id": "eGwvrK1cPX2C",
        "outputId": "1551e0ec-3210-4fc5-eb55-445c87e07809"
      },
      "execution_count": null,
      "outputs": [
        {
          "output_type": "execute_result",
          "data": {
            "text/plain": [
              "array([[-0.63351919],\n",
              "       [-1.28318893]])"
            ]
          },
          "metadata": {},
          "execution_count": 30
        }
      ]
    },
    {
      "cell_type": "code",
      "source": [
        "def model(X,theta):\n",
        "  return X.dot(theta)"
      ],
      "metadata": {
        "id": "mheYsKT_P9BM"
      },
      "execution_count": null,
      "outputs": []
    },
    {
      "cell_type": "code",
      "source": [
        "plt.scatter(x,y)\n",
        "plt.plot(x,model(X,theta),c='g')"
      ],
      "metadata": {
        "colab": {
          "base_uri": "https://localhost:8080/",
          "height": 282
        },
        "id": "BDN4Sbn8QREn",
        "outputId": "ef7888de-69f5-49c9-abdd-595ca45a03d4"
      },
      "execution_count": null,
      "outputs": [
        {
          "output_type": "execute_result",
          "data": {
            "text/plain": [
              "[<matplotlib.lines.Line2D at 0x7f4e4b773d50>]"
            ]
          },
          "metadata": {},
          "execution_count": 32
        },
        {
          "output_type": "display_data",
          "data": {
            "text/plain": [
              "<Figure size 432x288 with 1 Axes>"
            ],
            "image/png": "[encoded data removed]"
          },
          "metadata": {
            "needs_background": "light"
          }
        }
      ]
    },
    {
      "cell_type": "code",
      "source": [
        "def cout(X,y,theta):\n",
        "  m=len(y)\n",
        "  return (1/2*m) * np.sum((model(X,theta)-y)**2)"
      ],
      "metadata": {
        "id": "FeIVesQ8RC4K"
      },
      "execution_count": null,
      "outputs": []
    },
    {
      "cell_type": "code",
      "source": [
        "cout(X,y,theta)"
      ],
      "metadata": {
        "colab": {
          "base_uri": "https://localhost:8080/"
        },
        "id": "2_dtv0lgSXAo",
        "outputId": "e54d5cf5-ea42-4208-84d9-214dbf66ee05"
      },
      "execution_count": null,
      "outputs": [
        {
          "output_type": "execute_result",
          "data": {
            "text/plain": [
              "42789266.18011646"
            ]
          },
          "metadata": {},
          "execution_count": 34
        }
      ]
    },
    {
      "cell_type": "code",
      "source": [
        "def grad(X,y,theta):\n",
        "  m=len(y)\n",
        "  return (1/m) *X.T.dot(model(X,theta)-y)"
      ],
      "metadata": {
        "id": "L7asdYkVS-Iz"
      },
      "execution_count": null,
      "outputs": []
    },
    {
      "cell_type": "code",
      "source": [
        "def grad_des(X,y,theta,learning_rate,n_iterations):\n",
        "  cout_hist=np.zeros(n_iterations)\n",
        "  for i in range(0,n_iterations):\n",
        "    theta=theta -learning_rate *grad(X,y,theta)\n",
        "    cout_hist[i]=cout(X,y,theta)\n",
        "  return theta ,cout_hist "
      ],
      "metadata": {
        "id": "PxpDl28XTqkU"
      },
      "execution_count": null,
      "outputs": []
    },
    {
      "cell_type": "code",
      "source": [
        "theta_final, cout_hist=grad_des(X,y,theta,learning_rate=0.01,n_iterations=1000)\n",
        "theta"
      ],
      "metadata": {
        "colab": {
          "base_uri": "https://localhost:8080/"
        },
        "id": "7rzg0AjZUuBl",
        "outputId": "88a91a9c-ced3-40ed-d5ce-320e50c920a2"
      },
      "execution_count": null,
      "outputs": [
        {
          "output_type": "execute_result",
          "data": {
            "text/plain": [
              "array([[-0.63351919],\n",
              "       [-1.28318893]])"
            ]
          },
          "metadata": {},
          "execution_count": 37
        }
      ]
    },
    {
      "cell_type": "code",
      "source": [
        "prediction = model(X,theta_final)\n",
        "plt.scatter(x,y)\n",
        "plt.plot(x,prediction,c='r')"
      ],
      "metadata": {
        "colab": {
          "base_uri": "https://localhost:8080/",
          "height": 282
        },
        "id": "amFW9ViUVJ_a",
        "outputId": "9057abc9-1183-4e80-9be3-05133142f59d"
      },
      "execution_count": null,
      "outputs": [
        {
          "output_type": "execute_result",
          "data": {
            "text/plain": [
              "[<matplotlib.lines.Line2D at 0x7f4e4b14bcd0>]"
            ]
          },
          "metadata": {},
          "execution_count": 38
        },
        {
          "output_type": "display_data",
          "data": {
            "text/plain": [
              "<Figure size 432x288 with 1 Axes>"
            ],
            "image/png": "[encoded data removed]"
          },
          "metadata": {
            "needs_background": "light"
          }
        }
      ]
    },
    {
      "cell_type": "code",
      "source": [
        "plt.plot(range(1000),cout_hist)"
      ],
      "metadata": {
        "colab": {
          "base_uri": "https://localhost:8080/",
          "height": 293
        },
        "id": "8_di7BBqPFfD",
        "outputId": "027e8c32-28c8-471c-b55e-a1e270a88ff1"
      },
      "execution_count": null,
      "outputs": [
        {
          "output_type": "execute_result",
          "data": {
            "text/plain": [
              "[<matplotlib.lines.Line2D at 0x7f4e4b0abe10>]"
            ]
          },
          "metadata": {},
          "execution_count": 39
        },
        {
          "output_type": "display_data",
          "data": {
            "text/plain": [
              "<Figure size 432x288 with 1 Axes>"
            ],
            "image/png": "[encoded data removed]"
          },
          "metadata": {
            "needs_background": "light"
          }
        }
      ]
    },
    {
      "cell_type": "code",
      "source": [
        "def coef_determination(y,pred):\n",
        "  u=((y-pred)**2).sum()\n",
        "  v=((y-y.mean())**2).sum()\n",
        "  return 1-(u/v) "
      ],
      "metadata": {
        "id": "cFvFLXfiP5zN"
      },
      "execution_count": null,
      "outputs": []
    },
    {
      "cell_type": "code",
      "source": [
        "coef_determination(y,prediction)"
      ],
      "metadata": {
        "colab": {
          "base_uri": "https://localhost:8080/"
        },
        "id": "f9fvVNwbRK3k",
        "outputId": "102fb84d-8070-4763-d5bb-36312c397d06"
      },
      "execution_count": null,
      "outputs": [
        {
          "output_type": "execute_result",
          "data": {
            "text/plain": [
              "0.9868150079255721"
            ]
          },
          "metadata": {},
          "execution_count": 41
        }
      ]
    }
  ]
}